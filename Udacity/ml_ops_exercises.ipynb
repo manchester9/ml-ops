{
 "cells": [
  {
   "cell_type": "code",
   "execution_count": 2,
   "id": "b395edf2",
   "metadata": {},
   "outputs": [
    {
     "data": {
      "text/html": [
       "<div>\n",
       "<style scoped>\n",
       "    .dataframe tbody tr th:only-of-type {\n",
       "        vertical-align: middle;\n",
       "    }\n",
       "\n",
       "    .dataframe tbody tr th {\n",
       "        vertical-align: top;\n",
       "    }\n",
       "\n",
       "    .dataframe thead th {\n",
       "        text-align: right;\n",
       "    }\n",
       "</style>\n",
       "<table border=\"1\" class=\"dataframe\">\n",
       "  <thead>\n",
       "    <tr style=\"text-align: right;\">\n",
       "      <th></th>\n",
       "      <th>fixed acidity</th>\n",
       "      <th>volatile acidity</th>\n",
       "      <th>citric acid</th>\n",
       "      <th>residual sugar</th>\n",
       "      <th>chlorides</th>\n",
       "      <th>free sulfur dioxide</th>\n",
       "      <th>total sulfur dioxide</th>\n",
       "      <th>density</th>\n",
       "      <th>pH</th>\n",
       "      <th>sulphates</th>\n",
       "      <th>alcohol</th>\n",
       "      <th>quality</th>\n",
       "    </tr>\n",
       "  </thead>\n",
       "  <tbody>\n",
       "    <tr>\n",
       "      <th>0</th>\n",
       "      <td>7.4</td>\n",
       "      <td>0.70</td>\n",
       "      <td>0.00</td>\n",
       "      <td>1.9</td>\n",
       "      <td>0.076</td>\n",
       "      <td>11.0</td>\n",
       "      <td>34.0</td>\n",
       "      <td>0.9978</td>\n",
       "      <td>3.51</td>\n",
       "      <td>0.56</td>\n",
       "      <td>9.4</td>\n",
       "      <td>5</td>\n",
       "    </tr>\n",
       "    <tr>\n",
       "      <th>1</th>\n",
       "      <td>7.8</td>\n",
       "      <td>0.88</td>\n",
       "      <td>0.00</td>\n",
       "      <td>2.6</td>\n",
       "      <td>0.098</td>\n",
       "      <td>25.0</td>\n",
       "      <td>67.0</td>\n",
       "      <td>0.9968</td>\n",
       "      <td>3.20</td>\n",
       "      <td>0.68</td>\n",
       "      <td>9.8</td>\n",
       "      <td>5</td>\n",
       "    </tr>\n",
       "    <tr>\n",
       "      <th>2</th>\n",
       "      <td>7.8</td>\n",
       "      <td>0.76</td>\n",
       "      <td>0.04</td>\n",
       "      <td>2.3</td>\n",
       "      <td>0.092</td>\n",
       "      <td>15.0</td>\n",
       "      <td>54.0</td>\n",
       "      <td>0.9970</td>\n",
       "      <td>3.26</td>\n",
       "      <td>0.65</td>\n",
       "      <td>9.8</td>\n",
       "      <td>5</td>\n",
       "    </tr>\n",
       "    <tr>\n",
       "      <th>3</th>\n",
       "      <td>11.2</td>\n",
       "      <td>0.28</td>\n",
       "      <td>0.56</td>\n",
       "      <td>1.9</td>\n",
       "      <td>0.075</td>\n",
       "      <td>17.0</td>\n",
       "      <td>60.0</td>\n",
       "      <td>0.9980</td>\n",
       "      <td>3.16</td>\n",
       "      <td>0.58</td>\n",
       "      <td>9.8</td>\n",
       "      <td>6</td>\n",
       "    </tr>\n",
       "    <tr>\n",
       "      <th>4</th>\n",
       "      <td>7.4</td>\n",
       "      <td>0.70</td>\n",
       "      <td>0.00</td>\n",
       "      <td>1.9</td>\n",
       "      <td>0.076</td>\n",
       "      <td>11.0</td>\n",
       "      <td>34.0</td>\n",
       "      <td>0.9978</td>\n",
       "      <td>3.51</td>\n",
       "      <td>0.56</td>\n",
       "      <td>9.4</td>\n",
       "      <td>5</td>\n",
       "    </tr>\n",
       "  </tbody>\n",
       "</table>\n",
       "</div>"
      ],
      "text/plain": [
       "   fixed acidity  volatile acidity  citric acid  residual sugar  chlorides  \\\n",
       "0            7.4              0.70         0.00             1.9      0.076   \n",
       "1            7.8              0.88         0.00             2.6      0.098   \n",
       "2            7.8              0.76         0.04             2.3      0.092   \n",
       "3           11.2              0.28         0.56             1.9      0.075   \n",
       "4            7.4              0.70         0.00             1.9      0.076   \n",
       "\n",
       "   free sulfur dioxide  total sulfur dioxide  density    pH  sulphates  \\\n",
       "0                 11.0                  34.0   0.9978  3.51       0.56   \n",
       "1                 25.0                  67.0   0.9968  3.20       0.68   \n",
       "2                 15.0                  54.0   0.9970  3.26       0.65   \n",
       "3                 17.0                  60.0   0.9980  3.16       0.58   \n",
       "4                 11.0                  34.0   0.9978  3.51       0.56   \n",
       "\n",
       "   alcohol  quality  \n",
       "0      9.4        5  \n",
       "1      9.8        5  \n",
       "2      9.8        5  \n",
       "3      9.8        6  \n",
       "4      9.4        5  "
      ]
     },
     "execution_count": 2,
     "metadata": {},
     "output_type": "execute_result"
    }
   ],
   "source": [
    "import pandas as pd\n",
    "import numpy as np\n",
    "import sklearn as sk\n",
    "import time\n",
    "import scipy\n",
    "df = pd.read_csv('C:/Users/Roland/MLOps/Udacity/data/winequality-red.csv', sep=';')\n",
    "df.head()"
   ]
  },
  {
   "cell_type": "code",
   "execution_count": null,
   "id": "dd20b227",
   "metadata": {},
   "outputs": [],
   "source": [
    "import time\n",
    "import pandas as pd\n",
    "import numpy as np"
   ]
  },
  {
   "cell_type": "code",
   "execution_count": null,
   "id": "298b7782",
   "metadata": {},
   "outputs": [],
   "source": [
    "with open('books_published_last_two_years.txt') as f:\n",
    "    recent_books = f.read().split('\\n')\n",
    "    \n",
    "with open('all_coding_books.txt') as f:\n",
    "    coding_books = f.read().split('\\n')"
   ]
  },
  {
   "cell_type": "code",
   "execution_count": null,
   "id": "09e40097",
   "metadata": {},
   "outputs": [],
   "source": [
    "start = time.time()\n",
    "recent_coding_books = []\n",
    "\n",
    "for book in recent_books:\n",
    "    if book in coding_books:\n",
    "        recent_coding_books.append(book)\n",
    "\n",
    "print(len(recent_coding_books))\n",
    "print('Duration: {} seconds'.format(time.time() - start))"
   ]
  },
  {
   "cell_type": "code",
   "execution_count": null,
   "id": "231d5609",
   "metadata": {},
   "outputs": [],
   "source": [
    "# Using vector operations over loops \n",
    "start = time.time()\n",
    "recent_coding_books = np.intersect1d(recent_books, coding_books)\n",
    "print(len(recent_coding_books))\n",
    "print('Duration: {} seconds'.format(time.time() - start))"
   ]
  },
  {
   "cell_type": "code",
   "execution_count": null,
   "id": "0961e770",
   "metadata": {},
   "outputs": [],
   "source": [
    "# Using data structures\n",
    "start = time.time()\n",
    "recent_coding_books = set(recent_books).intersection(set(coding_books))\n",
    "print(len(recent_coding_books))\n",
    "print('Duration: {} seconds'.format(time.time() - start))"
   ]
  },
  {
   "cell_type": "code",
   "execution_count": 3,
   "id": "b3511169",
   "metadata": {},
   "outputs": [],
   "source": [
    "# Try except statements"
   ]
  },
  {
   "cell_type": "code",
   "execution_count": 7,
   "id": "46a83f7d",
   "metadata": {},
   "outputs": [
    {
     "name": "stdout",
     "output_type": "stream",
     "text": [
      "We were not able to find the path\n"
     ]
    }
   ],
   "source": [
    "def read_data(file_path):\n",
    "    try:\n",
    "        df = pd.read_csv(file_path)\n",
    "        return df\n",
    "    except (FileNotFoundError, SyntaxError, ImportError, TypeError):\n",
    "        if FileNotFoundError:\n",
    "            print('We were not able to find the path')\n",
    "        else:\n",
    "            print('Some other error')\n",
    "    \n",
    "read_data('some path')\n",
    "        "
   ]
  },
  {
   "cell_type": "code",
   "execution_count": 18,
   "id": "f6ec5696",
   "metadata": {},
   "outputs": [
    {
     "name": "stdout",
     "output_type": "stream",
     "text": [
      "Denominator cannot be zero\n",
      "text argument must be a string\n",
      "4\n"
     ]
    }
   ],
   "source": [
    "def divide_vals(numerator, denominator):\n",
    "    '''\n",
    "    Args:\n",
    "        numerator: (float) numerator of fraction\n",
    "        denominator: (float) denominator of fraction\n",
    "\n",
    "    Returns:\n",
    "        fraction_val: (float) numerator/denominator\n",
    "    '''\n",
    "    try:\n",
    "        fraction_val = numerator/denominator\n",
    "        return fraction_val\n",
    "    except ZeroDivisionError:\n",
    "        return 'Denominator cannot be zero'\n",
    "    \n",
    "print(divide_vals (4,0))\n",
    "        # try to return the fraction but if the denominator is zero\n",
    "    # catch the error and return a string saying: \n",
    "    # \"denominator cannot be zero\"\n",
    "\n",
    "def num_words(text):\n",
    "    '''\n",
    "    Args:\n",
    "        text: (string) string of words\n",
    "\n",
    "    Returns:\n",
    "        num_words: (int) number of words in the string\n",
    "    '''\n",
    "    try:\n",
    "        num_words = len(text.split())\n",
    "        return num_words\n",
    "    except AttributeError:\n",
    "        return 'text argument must be a string'\n",
    "    # try to split based on spaces and return num of words\n",
    "    # but if text isnt a string return \"text argument must be a string\"\n",
    "    \n",
    "print(num_words(2))\n",
    "print(num_words('This is some text'))"
   ]
  },
  {
   "cell_type": "code",
   "execution_count": null,
   "id": "e81c5946",
   "metadata": {},
   "outputs": [],
   "source": [
    "# Testing"
   ]
  },
  {
   "cell_type": "code",
   "execution_count": 19,
   "id": "74ab6788",
   "metadata": {},
   "outputs": [
    {
     "name": "stdout",
     "output_type": "stream",
     "text": [
      "Requirement already satisfied: pytest in c:\\users\\roland\\anaconda3\\lib\\site-packages (7.1.2)\n",
      "Requirement already satisfied: attrs>=19.2.0 in c:\\users\\roland\\anaconda3\\lib\\site-packages (from pytest) (21.4.0)\n",
      "Requirement already satisfied: iniconfig in c:\\users\\roland\\anaconda3\\lib\\site-packages (from pytest) (1.1.1)\n",
      "Requirement already satisfied: packaging in c:\\users\\roland\\anaconda3\\lib\\site-packages (from pytest) (21.3)\n",
      "Requirement already satisfied: pluggy<2.0,>=0.12 in c:\\users\\roland\\anaconda3\\lib\\site-packages (from pytest) (1.0.0)\n",
      "Requirement already satisfied: py>=1.8.2 in c:\\users\\roland\\anaconda3\\lib\\site-packages (from pytest) (1.11.0)\n",
      "Requirement already satisfied: tomli>=1.0.0 in c:\\users\\roland\\anaconda3\\lib\\site-packages (from pytest) (2.0.1)\n",
      "Requirement already satisfied: atomicwrites>=1.0 in c:\\users\\roland\\anaconda3\\lib\\site-packages (from pytest) (1.4.0)\n",
      "Requirement already satisfied: colorama in c:\\users\\roland\\anaconda3\\lib\\site-packages (from pytest) (0.4.5)\n",
      "Requirement already satisfied: pyparsing!=3.0.5,>=2.0.2 in c:\\users\\roland\\anaconda3\\lib\\site-packages (from packaging->pytest) (3.0.9)\n"
     ]
    }
   ],
   "source": [
    "!pip install pytest"
   ]
  },
  {
   "cell_type": "code",
   "execution_count": 22,
   "id": "e2ad51ca",
   "metadata": {},
   "outputs": [],
   "source": [
    "# Example\n",
    "from nearest import nearest_square\n",
    "def test_nearest_square_5():\n",
    "    assert(nearest_square(5) == 4)\n",
    "def test_nearest_square_n12():\n",
    "    assert(nearest_square(-12) == 0)\n",
    "def test_nearest_square_9():\n",
    "    assert(nearest_square(9) == 9)\n",
    "def test_nearest_square_23():\n",
    "    assert(nearest_square(23) == 16)"
   ]
  },
  {
   "cell_type": "code",
   "execution_count": 27,
   "id": "7351146a",
   "metadata": {},
   "outputs": [],
   "source": [
    "# Parameterized tests\n",
    "# File: test_mylibrary.py\n",
    "# Pytest filename starts with \"test_....\"\n",
    "import pytest\n",
    "\n",
    "##################################\n",
    "\"\"\"\n",
    "Function to test\n",
    "\"\"\"\n",
    "def import_data(pth):\n",
    "    df = pd.read_csv(pth)\n",
    "    return df\n",
    "##################################\n",
    "\"\"\"\n",
    "Fixture - The test function test_import_data() will \n",
    "use the return of path() as an argument\n",
    "\"\"\"\n",
    "@pytest.fixture(scope=\"module\")\n",
    "def path():\n",
    "    return \"./data/bank_data.csv\"\n",
    "\n",
    "##################################\n",
    "\"\"\"\n",
    "Test method\n",
    "\"\"\"\n",
    "def test_import_data(path):\n",
    "    try:\n",
    "        df = import_data(path)\n",
    "\n",
    "    except FileNotFoundError as err:\n",
    "        logging.error(\"File not found\")\n",
    "        raise err\n",
    "\n",
    "    # Check the df shape\n",
    "    try:\n",
    "        assert df.shape[0] > 0\n",
    "        assert df.shape[1] > 0\n",
    "\n",
    "    except AssertionError as err:\n",
    "        logging.error(\n",
    "            \"Testing import_data: The file doesn't appear to have rows and columns\")\n",
    "        raise err\n",
    "    return df\n",
    "##################################"
   ]
  },
  {
   "cell_type": "code",
   "execution_count": null,
   "id": "3ad4f2fb",
   "metadata": {},
   "outputs": [],
   "source": []
  },
  {
   "cell_type": "code",
   "execution_count": null,
   "id": "e680ef75",
   "metadata": {},
   "outputs": [],
   "source": [
    "# Logging"
   ]
  },
  {
   "cell_type": "code",
   "execution_count": 29,
   "id": "e605824d",
   "metadata": {},
   "outputs": [],
   "source": [
    "import logging\n",
    "\n",
    "logging.basicConfig(\n",
    "    filename='./results.log',\n",
    "    level=logging.INFO,\n",
    "    filemode='w',\n",
    "    format='%(name)s - %(levelname)s - %(message)s')"
   ]
  },
  {
   "cell_type": "code",
   "execution_count": null,
   "id": "3a535dea",
   "metadata": {},
   "outputs": [],
   "source": []
  },
  {
   "cell_type": "code",
   "execution_count": null,
   "id": "0581cc9e",
   "metadata": {},
   "outputs": [],
   "source": []
  },
  {
   "cell_type": "code",
   "execution_count": null,
   "id": "bd8a945b",
   "metadata": {},
   "outputs": [],
   "source": []
  },
  {
   "cell_type": "code",
   "execution_count": null,
   "id": "e3bcb6ea",
   "metadata": {},
   "outputs": [],
   "source": []
  },
  {
   "cell_type": "code",
   "execution_count": null,
   "id": "c42f782d",
   "metadata": {},
   "outputs": [],
   "source": []
  },
  {
   "cell_type": "code",
   "execution_count": null,
   "id": "e746a560",
   "metadata": {},
   "outputs": [],
   "source": []
  }
 ],
 "metadata": {
  "kernelspec": {
   "display_name": "Python 3 (ipykernel)",
   "language": "python",
   "name": "python3"
  },
  "language_info": {
   "codemirror_mode": {
    "name": "ipython",
    "version": 3
   },
   "file_extension": ".py",
   "mimetype": "text/x-python",
   "name": "python",
   "nbconvert_exporter": "python",
   "pygments_lexer": "ipython3",
   "version": "3.9.13"
  }
 },
 "nbformat": 4,
 "nbformat_minor": 5
}
